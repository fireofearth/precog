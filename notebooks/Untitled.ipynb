{
 "cells": [
  {
   "cell_type": "code",
   "execution_count": 1,
   "metadata": {},
   "outputs": [],
   "source": [
    "import numpy as np"
   ]
  },
  {
   "cell_type": "code",
   "execution_count": 74,
   "metadata": {},
   "outputs": [
    {
     "name": "stdout",
     "output_type": "stream",
     "text": [
      "[[[ 1  2]\n",
      "  [ 3  4]]\n",
      "\n",
      " [[ 5  7]\n",
      "  [ 9 11]]\n",
      "\n",
      " [[13 15]\n",
      "  [17 19]]]\n",
      "[[1 2]\n",
      " [3 4]]\n"
     ]
    }
   ],
   "source": [
    "a = np.array([\n",
    "    [[1,2],[3,4]],\n",
    "    [[5,7],[9,11]],\n",
    "    [[13,15],[17,19]],\n",
    "])\n",
    "print(a)\n",
    "print(a[0])"
   ]
  },
  {
   "cell_type": "code",
   "execution_count": 55,
   "metadata": {},
   "outputs": [
    {
     "name": "stdout",
     "output_type": "stream",
     "text": [
      "[ 1  5 13]\n",
      "[ 2  7 15]\n",
      "[ 3  9 17]\n",
      "[ 4 11 19]\n"
     ]
    },
    {
     "data": {
      "text/plain": [
       "array([[None, None],\n",
       "       [None, None]], dtype=object)"
      ]
     },
     "execution_count": 55,
     "metadata": {},
     "output_type": "execute_result"
    }
   ],
   "source": [
    "def f(v):\n",
    "    print(v)\n",
    "\n",
    "np.apply_along_axis(f, 0, a)"
   ]
  },
  {
   "cell_type": "code",
   "execution_count": 61,
   "metadata": {},
   "outputs": [
    {
     "name": "stdout",
     "output_type": "stream",
     "text": [
      "row [[1 2]\n",
      " [3 4]]\n",
      "row [[ 5  7]\n",
      " [ 9 11]]\n",
      "row [[13 15]\n",
      " [17 19]]\n"
     ]
    }
   ],
   "source": [
    "for v in a:\n",
    "    print(\"row\",v)"
   ]
  },
  {
   "cell_type": "code",
   "execution_count": 62,
   "metadata": {},
   "outputs": [
    {
     "name": "stdout",
     "output_type": "stream",
     "text": [
      "[[[ 2  3]\n",
      "  [ 4  5]]\n",
      "\n",
      " [[ 6  8]\n",
      "  [10 12]]\n",
      "\n",
      " [[14 16]\n",
      "  [18 20]]]\n"
     ]
    }
   ],
   "source": [
    "f = lambda x: x + 1\n",
    "b = np.array([f(xi) for xi in a])\n",
    "print(b)"
   ]
  },
  {
   "cell_type": "code",
   "execution_count": null,
   "metadata": {},
   "outputs": [],
   "source": [
    "c = np.array([\n",
    "    [ 1,  2],\n",
    "    [ 3,  4]\n",
    "])\n",
    "b = np.sum(c, axis=0)\n",
    "print(\"sum along column\", b)\n",
    "b = np.sum(c, axis=1)\n",
    "print(\"sum along row\", b)"
   ]
  },
  {
   "cell_type": "code",
   "execution_count": 64,
   "metadata": {},
   "outputs": [
    {
     "name": "stdout",
     "output_type": "stream",
     "text": [
      "[[1 2]\n",
      " [3 4]]\n",
      "[[[1 2]\n",
      "  [3 4]]]\n"
     ]
    }
   ],
   "source": [
    "c = np.array([\n",
    "    [ 1,  2],\n",
    "    [ 3,  4]\n",
    "])\n",
    "print(c)\n",
    "print(c[None])"
   ]
  },
  {
   "cell_type": "code",
   "execution_count": 66,
   "metadata": {},
   "outputs": [
    {
     "name": "stdout",
     "output_type": "stream",
     "text": [
      "[[1 2]\n",
      " [3 4]\n",
      " [5 6]]\n",
      "[[5 6]\n",
      " [1 2]\n",
      " [3 4]]\n"
     ]
    }
   ],
   "source": [
    "c = np.array([\n",
    "    [ 1,  2],\n",
    "    [ 3,  4]\n",
    "])\n",
    "a = np.array([\n",
    "    [5, 6]\n",
    "])\n",
    "b = np.append(c, a, axis=0)\n",
    "print(b)\n",
    "b = np.append(a, c, axis=0)\n",
    "print(b)"
   ]
  },
  {
   "cell_type": "code",
   "execution_count": 68,
   "metadata": {},
   "outputs": [
    {
     "name": "stdout",
     "output_type": "stream",
     "text": [
      "[[1 2]\n",
      " [3 4]]\n",
      "[[1 2 1 2 1 2 1 2 1 2]\n",
      " [3 4 3 4 3 4 3 4 3 4]]\n"
     ]
    }
   ],
   "source": [
    "c = np.array([\n",
    "    [ 1,  2],\n",
    "    [ 3,  4]\n",
    "])\n",
    "print(c)\n",
    "b = np.tile(c, (5, 1, 1, 1))\n",
    "print(b)"
   ]
  },
  {
   "cell_type": "code",
   "execution_count": 72,
   "metadata": {},
   "outputs": [
    {
     "name": "stdout",
     "output_type": "stream",
     "text": [
      "[[1 2]\n",
      " [3 4]]\n",
      "[[[1 2]\n",
      "  [3 4]]]\n",
      "[[1 2]\n",
      " [3 4]]\n"
     ]
    }
   ],
   "source": [
    "c = np.array([\n",
    "    [ 1,  2],\n",
    "    [ 3,  4]\n",
    "])\n",
    "print(c)\n",
    "b = c[None]\n",
    "print(b)\n",
    "b = np.squeeze(b)\n",
    "print(b)"
   ]
  },
  {
   "cell_type": "code",
   "execution_count": 83,
   "metadata": {},
   "outputs": [
    {
     "name": "stdout",
     "output_type": "stream",
     "text": [
      "(3, 5)\n",
      "[1 2 3 4 5] [6 7 8 9 0]\n"
     ]
    }
   ],
   "source": [
    "c = np.array([\n",
    "    [1,2,3,4,5],\n",
    "    [6,7,8,9,0],\n",
    "    [0,0,0,0,0]\n",
    "])\n",
    "print(c.shape)\n",
    "print(*c[:2])"
   ]
  },
  {
   "cell_type": "code",
   "execution_count": null,
   "metadata": {},
   "outputs": [],
   "source": []
  }
 ],
 "metadata": {
  "kernelspec": {
   "display_name": "Python 3",
   "language": "python",
   "name": "python3"
  },
  "language_info": {
   "codemirror_mode": {
    "name": "ipython",
    "version": 3
   },
   "file_extension": ".py",
   "mimetype": "text/x-python",
   "name": "python",
   "nbconvert_exporter": "python",
   "pygments_lexer": "ipython3",
   "version": "3.6.6"
  }
 },
 "nbformat": 4,
 "nbformat_minor": 2
}
